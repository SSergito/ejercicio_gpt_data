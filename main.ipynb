{
 "cells": [
  {
   "cell_type": "code",
   "execution_count": 21,
   "metadata": {},
   "outputs": [
    {
     "name": "stdout",
     "output_type": "stream",
     "text": [
      "                         transaction_id        date     category     product  \\\n",
      "0  bdd640fb-0667-4ad1-9c80-317fa3b1799d  2024-03-12  Electronics  Smartwatch   \n",
      "1  23b8c1e9-3924-46de-beb1-3b9046685257  2024-12-02  Electronics  Headphones   \n",
      "2  bd9c66b3-ad3c-4d6d-9a3d-1fa7bc8960a9  2024-04-17     Clothing       Shirt   \n",
      "3  972a8469-1641-4f82-8b9d-2434e465e150  2024-06-29        Books      Comics   \n",
      "4  17fc695a-07a0-4a6e-8822-e8f36c031199  2024-10-09        Books     Fiction   \n",
      "5  9a1de644-815e-46d1-bb8f-aa1837f8a88b  2024-08-16        Books     Fiction   \n",
      "6  b74d0fb1-32e7-4629-8fad-c1a606cb0fb3  2024-09-18  Electronics  Smartwatch   \n",
      "7  6b65a6a4-8b81-48f6-b38a-088ca65ed389  2023-01-27         Toys      Puzzle   \n",
      "8  47378190-96da-4dac-b2ff-5d2a386ecbe0  2023-09-25  Electronics      Tablet   \n",
      "9  c241330b-01a9-471f-9e8a-774bcf36d58b  2023-02-23         Toys      Puzzle   \n",
      "\n",
      "    price  quantity  \n",
      "0  121.22         2  \n",
      "1  338.04         3  \n",
      "2    9.71         7  \n",
      "3  377.14        10  \n",
      "4  334.33         5  \n",
      "5   52.94         5  \n",
      "6  396.93         9  \n",
      "7  303.48         7  \n",
      "8  466.40        10  \n",
      "9  379.67         6  \n"
     ]
    }
   ],
   "source": [
    "import pandas as pd\n",
    "\n",
    "# Carga el dataset en un DataFrame de pandas y muestra las primeras 10 filas\n",
    "df = pd.read_csv(\"sales_data.csv\")\n",
    "print(df.head(10))"
   ]
  },
  {
   "cell_type": "code",
   "execution_count": 22,
   "metadata": {},
   "outputs": [
    {
     "name": "stdout",
     "output_type": "stream",
     "text": [
      "<class 'pandas.core.frame.DataFrame'>\n",
      "RangeIndex: 5000 entries, 0 to 4999\n",
      "Data columns (total 6 columns):\n",
      " #   Column          Non-Null Count  Dtype  \n",
      "---  ------          --------------  -----  \n",
      " 0   transaction_id  5000 non-null   object \n",
      " 1   date            5000 non-null   object \n",
      " 2   category        5000 non-null   object \n",
      " 3   product         5000 non-null   object \n",
      " 4   price           5000 non-null   float64\n",
      " 5   quantity        5000 non-null   int64  \n",
      "dtypes: float64(1), int64(1), object(4)\n",
      "memory usage: 234.5+ KB\n",
      "None\n",
      "transaction_id    0\n",
      "date              0\n",
      "category          0\n",
      "product           0\n",
      "price             0\n",
      "quantity          0\n",
      "dtype: int64\n"
     ]
    }
   ],
   "source": [
    "# Obtén un resumen de las columnas, tipos de datos y valores nulos\n",
    "print(df.info())\n",
    "print(df.isnull().sum())"
   ]
  },
  {
   "cell_type": "code",
   "execution_count": 23,
   "metadata": {},
   "outputs": [
    {
     "name": "stdout",
     "output_type": "stream",
     "text": [
      "Número de filas: 5000\n",
      "Número de columnas: 6\n"
     ]
    }
   ],
   "source": [
    "\n",
    "# Cuenta el número total de filas y columnas en el dataset\n",
    "rows, columns = df.shape\n",
    "print(f\"Número de filas: {rows}\\nNúmero de columnas: {columns}\")"
   ]
  },
  {
   "cell_type": "code",
   "execution_count": 24,
   "metadata": {},
   "outputs": [
    {
     "name": "stdout",
     "output_type": "stream",
     "text": [
      "                            transaction_id        date     category  \\\n",
      "0     bdd640fb-0667-4ad1-9c80-317fa3b1799d  2024-03-12  Electronics   \n",
      "6     b74d0fb1-32e7-4629-8fad-c1a606cb0fb3  2024-09-18  Electronics   \n",
      "36    366eb16f-508e-4ad7-b7c9-3acfe059a0ee  2023-06-25  Electronics   \n",
      "55    f8cda88b-436d-46e2-b83c-fe0be037e5ed  2023-02-09  Electronics   \n",
      "56    81f76d1c-2dbc-4134-830f-f46e8026695f  2023-10-27  Electronics   \n",
      "...                                    ...         ...          ...   \n",
      "4911  42a1279b-8bf5-4aed-9904-b887d77b03b3  2024-01-16  Electronics   \n",
      "4961  a32c5e99-fd26-441b-a21a-7c4e60ac4a64  2024-01-15  Electronics   \n",
      "4975  8037b969-7946-4eae-93dc-00ee9203c5d2  2023-07-30  Electronics   \n",
      "4981  7fab9b07-1e30-4f10-99d5-6f424c589a8e  2023-03-03  Electronics   \n",
      "4994  3354b4be-42c9-4aaf-abe1-3e78568a220d  2023-10-22  Electronics   \n",
      "\n",
      "         product   price  quantity  \n",
      "0     Smartwatch  121.22         2  \n",
      "6     Smartwatch  396.93         9  \n",
      "36    Smartwatch  393.51         7  \n",
      "55    Smartwatch  384.34        10  \n",
      "56    Smartwatch   37.01         1  \n",
      "...          ...     ...       ...  \n",
      "4911  Smartwatch  463.22         4  \n",
      "4961  Smartwatch  188.62         2  \n",
      "4975  Smartwatch  133.52         9  \n",
      "4981  Smartwatch   29.51         4  \n",
      "4994  Smartwatch  350.87         7  \n",
      "\n",
      "[200 rows x 6 columns]\n"
     ]
    }
   ],
   "source": [
    "# Filtra las transacciones para un producto específico\n",
    "df_watch = df.loc[df[\"product\"] == \"Smartwatch\"]\n",
    "print(df_watch)"
   ]
  },
  {
   "cell_type": "code",
   "execution_count": 25,
   "metadata": {},
   "outputs": [
    {
     "name": "stdout",
     "output_type": "stream",
     "text": [
      "                            transaction_id        date     category  \\\n",
      "3579  a6cc0a57-8e01-4eb3-8352-8ba43f0e924b  2022-12-31         Home   \n",
      "3347  fbf3a106-260b-43e0-8ce6-929f7a44bd05  2022-12-31  Electronics   \n",
      "2739  12068ad6-12aa-4a4b-88ec-a4c81a71064d  2022-12-31         Home   \n",
      "1370  f8cbab4c-9779-4e84-9e47-2e2276c3e642  2022-12-31        Books   \n",
      "1819  acef45c4-de37-40fb-9db9-4eee1a3c2131  2022-12-31     Clothing   \n",
      "...                                    ...         ...          ...   \n",
      "3785  35ba5e93-bfc7-4282-b92c-8a723a17d79a  2024-12-30  Electronics   \n",
      "449   4bbe4aff-9326-4ffd-9be4-bf5192698698  2024-12-30         Toys   \n",
      "1006  61935990-abdd-4a8f-a4b0-5c89f10bce9c  2024-12-30         Home   \n",
      "1583  c7cfeca8-22b9-424c-a744-3fb881bd55d5  2024-12-30         Toys   \n",
      "1012  0ec0713d-ea2c-4a51-b688-d11fce4758be  2024-12-30         Toys   \n",
      "\n",
      "            product   price  quantity  \n",
      "3579          Chair  293.53         6  \n",
      "3347         Laptop  227.39         5  \n",
      "2739        Blender  263.78         2  \n",
      "1370    Non-fiction  173.22        10  \n",
      "1819         Jacket  209.38         7  \n",
      "...             ...     ...       ...  \n",
      "3785     Smartwatch  146.98         3  \n",
      "449   Action Figure  395.48         3  \n",
      "1006        Toaster  231.26        10  \n",
      "1583         Puzzle  176.73         2  \n",
      "1012         Puzzle  142.07         8  \n",
      "\n",
      "[5000 rows x 6 columns]\n"
     ]
    }
   ],
   "source": [
    "# Ordena las transacciones por fecha\n",
    "print(df.sort_values(by=\"date\",ascending=True))"
   ]
  },
  {
   "cell_type": "code",
   "execution_count": 26,
   "metadata": {},
   "outputs": [
    {
     "name": "stdout",
     "output_type": "stream",
     "text": [
      "Precio promedio de ventas: 252.86\n",
      "Precio promedio de Action Figure: 251.09\n",
      "Precio promedio de Biography: 260.63\n",
      "Precio promedio de Blender: 247.97\n",
      "Precio promedio de Board Game: 247.46\n",
      "Precio promedio de Chair: 252.09\n",
      "Precio promedio de Comics: 244.05\n",
      "Precio promedio de Doll: 272.06\n",
      "Precio promedio de Fiction: 255.04\n",
      "Precio promedio de Hat: 252.45\n",
      "Precio promedio de Headphones: 247.60\n",
      "Precio promedio de Jacket: 266.06\n",
      "Precio promedio de Jeans: 246.65\n",
      "Precio promedio de Lamp: 252.30\n",
      "Precio promedio de Laptop: 259.60\n",
      "Precio promedio de Lego Set: 250.04\n",
      "Precio promedio de Non-fiction: 267.41\n",
      "Precio promedio de Puzzle: 242.57\n",
      "Precio promedio de Science: 265.63\n",
      "Precio promedio de Shirt: 258.86\n",
      "Precio promedio de Shoes: 242.10\n",
      "Precio promedio de Smartphone: 236.63\n",
      "Precio promedio de Smartwatch: 244.41\n",
      "Precio promedio de Tablet: 260.56\n",
      "Precio promedio de Toaster: 254.69\n",
      "Precio promedio de Vacuum: 249.71\n"
     ]
    }
   ],
   "source": [
    "# Calcula el precio promedio de los productos vendidos.\n",
    "print(f\"Precio promedio de ventas: {df[\"price\"].mean():.2f}\")\n",
    "##### Extra a la pregunta quiero hallar el precio promedio por cada producto\n",
    "precios_promedio = df.groupby(\"product\")[\"price\"].mean()\n",
    "for producto, promedio in precios_promedio.items():\n",
    "    print(f\"Precio promedio de {producto}: {promedio:.2f}\")"
   ]
  },
  {
   "cell_type": "code",
   "execution_count": 27,
   "metadata": {},
   "outputs": [
    {
     "name": "stdout",
     "output_type": "stream",
     "text": [
      "0       2024-03\n",
      "1       2024-12\n",
      "2       2024-04\n",
      "3       2024-06\n",
      "4       2024-10\n",
      "         ...   \n",
      "4995    2023-06\n",
      "4996    2024-12\n",
      "4997    2023-12\n",
      "4998    2023-10\n",
      "4999    2023-10\n",
      "Name: Year-Month, Length: 5000, dtype: object\n"
     ]
    }
   ],
   "source": [
    "# Extrae el año y mes de las fechas de transacción en una nueva columna\n",
    "df[\"date\"] = pd.to_datetime(df[\"date\"], errors=\"coerce\")\n",
    "df[\"Year-Month\"] = df[\"date\"].dt.to_period(\"M\").astype(str)\n",
    "print(df[\"Year-Month\"])"
   ]
  },
  {
   "cell_type": "code",
   "execution_count": 28,
   "metadata": {},
   "outputs": [
    {
     "name": "stdout",
     "output_type": "stream",
     "text": [
      "Número de productos únicos: 25\n"
     ]
    }
   ],
   "source": [
    "# Identifica cuántos productos únicos hay en el dataset\n",
    "print(f\"Número de productos únicos: {len(df[\"product\"].unique())}\")"
   ]
  },
  {
   "cell_type": "code",
   "execution_count": 29,
   "metadata": {},
   "outputs": [
    {
     "name": "stdout",
     "output_type": "stream",
     "text": [
      "Producto más caro vendido:\n",
      "                          transaction_id       date     category product  \\\n",
      "12  1a2a73ed-562b-4f79-8374-59eef50bea63 2024-07-27  Electronics  Tablet   \n",
      "\n",
      "     price  quantity Year-Month  \n",
      "12  499.73         7    2024-07  \n"
     ]
    }
   ],
   "source": [
    "# Encuentra el producto más caro vendido\n",
    "most_expensive = df.loc[df[\"price\"] == df[\"price\"].max()]\n",
    "print(\"Producto más caro vendido:\")\n",
    "print(most_expensive)"
   ]
  },
  {
   "cell_type": "code",
   "execution_count": 30,
   "metadata": {},
   "outputs": [
    {
     "name": "stdout",
     "output_type": "stream",
     "text": [
      "count    5000.000000\n",
      "mean      252.863570\n",
      "std       142.577453\n",
      "min         5.110000\n",
      "50%       250.005000\n",
      "max       499.730000\n",
      "Name: price, dtype: float64\n",
      "count    5000.000000\n",
      "mean      252.863570\n",
      "std       142.577453\n",
      "min         5.110000\n",
      "max       499.730000\n",
      "Name: price, dtype: float64\n"
     ]
    }
   ],
   "source": [
    "# Genera un resumen estadístico (mean, std, min, max) de la columna precio\n",
    "print(df[\"price\"].describe(percentiles=[])) # METODO 1\n",
    "print(df[\"price\"].agg(['count', 'mean', 'std', 'min', 'max'])) # METODO 2"
   ]
  },
  {
   "cell_type": "code",
   "execution_count": 31,
   "metadata": {},
   "outputs": [
    {
     "name": "stdout",
     "output_type": "stream",
     "text": [
      "0        2\n",
      "1        3\n",
      "2        7\n",
      "3       10\n",
      "4        5\n",
      "        ..\n",
      "4995     2\n",
      "4996     5\n",
      "4997     2\n",
      "4998     6\n",
      "4999     1\n",
      "Name: quantity, Length: 5000, dtype: int64\n"
     ]
    }
   ],
   "source": [
    "# Reemplaza los valores faltantes en una columna específica con un valor por defecto\n",
    "df[\"quantity\"] = df[\"quantity\"].fillna(0)\n",
    "print(df[\"quantity\"])"
   ]
  },
  {
   "cell_type": "code",
   "execution_count": 32,
   "metadata": {},
   "outputs": [],
   "source": [
    "# Crea una columna que calcule el ingreso total (precio x cantidad)\n",
    "df[\"ingreso_total\"] = df[\"price\"] * df[\"quantity\"]"
   ]
  },
  {
   "cell_type": "code",
   "execution_count": 33,
   "metadata": {},
   "outputs": [
    {
     "name": "stdout",
     "output_type": "stream",
     "text": [
      "category\n",
      "Books          1397801.44\n",
      "Clothing       1395341.72\n",
      "Electronics    1392374.10\n",
      "Home           1416662.28\n",
      "Toys           1411557.10\n",
      "Name: ingreso_total, dtype: float64\n"
     ]
    }
   ],
   "source": [
    "# Agrupa las transacciones por categoría y calcula el ingreso total por categoría\n",
    "print(df.groupby(by=\"category\")[\"ingreso_total\"].sum())"
   ]
  },
  {
   "cell_type": "code",
   "execution_count": 34,
   "metadata": {},
   "outputs": [
    {
     "name": "stdout",
     "output_type": "stream",
     "text": [
      "2023-05-17 00:00:00\n"
     ]
    }
   ],
   "source": [
    "# Encuentra el día con las mayores ventas\n",
    "fecha_max = df.groupby(by=\"date\")[\"ingreso_total\"].sum().idxmax()\n",
    "print(fecha_max)"
   ]
  },
  {
   "cell_type": "code",
   "execution_count": 35,
   "metadata": {},
   "outputs": [
    {
     "name": "stdout",
     "output_type": "stream",
     "text": [
      "product\n",
      "Puzzle        1257\n",
      "Lego Set      1251\n",
      "Vacuum        1181\n",
      "Shirt         1172\n",
      "Smartphone    1165\n",
      "Name: quantity, dtype: int64\n"
     ]
    }
   ],
   "source": [
    "# Identifica el top 5 de productos más vendidos\n",
    "sales_for_product = df.groupby(by=\"product\")[\"quantity\"].sum()\n",
    "print(sales_for_product.sort_values(ascending=False).head(5))"
   ]
  },
  {
   "cell_type": "code",
   "execution_count": 36,
   "metadata": {},
   "outputs": [
    {
     "data": {
      "image/png": "[encoded data removed]",
      "text/plain": [
       "<Figure size 640x480 with 1 Axes>"
      ]
     },
     "metadata": {},
     "output_type": "display_data"
    }
   ],
   "source": [
    "# Genera un gráfico de barras que muestre las ventas mensuales\n",
    "import matplotlib.pyplot as plt\n",
    "\n",
    "sales_for_month = df.groupby(by=\"Year-Month\")[\"ingreso_total\"].sum()\n",
    "sales_for_month.plot(kind=\"bar\")\n",
    "plt.show()"
   ]
  },
  {
   "cell_type": "code",
   "execution_count": null,
   "metadata": {},
   "outputs": [],
   "source": [
    "# Calcula el porcentaje de ventas por categoría\n"
   ]
  }
 ],
 "metadata": {
  "kernelspec": {
   "display_name": "Python 3",
   "language": "python",
   "name": "python3"
  },
  "language_info": {
   "codemirror_mode": {
    "name": "ipython",
    "version": 3
   },
   "file_extension": ".py",
   "mimetype": "text/x-python",
   "name": "python",
   "nbconvert_exporter": "python",
   "pygments_lexer": "ipython3",
   "version": "3.12.1"
  }
 },
 "nbformat": 4,
 "nbformat_minor": 2
}
